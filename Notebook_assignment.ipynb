{
 "cells": [
  {
   "cell_type": "markdown",
   "id": "408cba37",
   "metadata": {},
   "source": [
    "# 1. My Jupiter Notebook on IBM Watson Studio"
   ]
  },
  {
   "cell_type": "markdown",
   "id": "0d6a32bf",
   "metadata": {},
   "source": [
    "# 2. Name - Suraj Ghodake\n",
    "#     I am a student.\n",
    "#     I want to be a Data Scientist.\n"
   ]
  },
  {
   "cell_type": "markdown",
   "id": "fcc7e601",
   "metadata": {},
   "source": [
    "## I am interested in Data Science because I have deep interest in numbers, maths and statistics. I am entered in this field to use and explore my skills. I am learning this I am getting more interested.  "
   ]
  },
  {
   "cell_type": "markdown",
   "id": "e46f363f",
   "metadata": {},
   "source": [
    "### Below code is adding values stored in a and b variables in var c."
   ]
  },
  {
   "cell_type": "code",
   "execution_count": 1,
   "id": "c34354bb",
   "metadata": {},
   "outputs": [
    {
     "data": {
      "text/plain": [
       "30"
      ]
     },
     "execution_count": 1,
     "metadata": {},
     "output_type": "execute_result"
    }
   ],
   "source": [
    "a = 10\n",
    "b = 20\n",
    "c = a+b\n",
    "c"
   ]
  },
  {
   "cell_type": "code",
   "execution_count": 7,
   "id": "2b77e23b",
   "metadata": {},
   "outputs": [],
   "source": [
    "\n",
    "img_src=\"image_file_in_this_directory.svg\" "
   ]
  },
  {
   "cell_type": "markdown",
   "id": "aad3f03f",
   "metadata": {},
   "source": [
    "* Student\n",
    "    - Subject\n",
    "        - Marks\n",
    "  - Guardian\n",
    "        - ID\n",
    "        - Specialization\n",
    "* Class\n",
    "  - teacher\n",
    "* Organization\n",
    "  - Institute"
   ]
  },
  {
   "cell_type": "markdown",
   "id": "a834e8b5",
   "metadata": {},
   "source": [
    "1. Data Analysis\n",
    "    1. EDA\n",
    "    2. Preprocessing\n",
    "2. Model building\n",
    "3. model deployment"
   ]
  },
  {
   "cell_type": "code",
   "execution_count": null,
   "id": "736752e7",
   "metadata": {},
   "outputs": [],
   "source": [
    "<table>\n",
    "  <tr>\n",
    "    <th>Header 1</th>\n",
    "    <th>Header 2</th>\n",
    "  </tr>\n",
    "  <tr>\n",
    "    <td>row 1, cell 1</td>\n",
    "    <td>row 1, cell 2</td>\n",
    "  </tr>\n",
    "  <tr>\n",
    "    <td>row 2, cell 1</td>\n",
    "    <td>row 2, cell 2</td>\n",
    "  </tr>\n",
    "</table>"
   ]
  }
 ],
 "metadata": {
  "kernelspec": {
   "display_name": "Python 3 (ipykernel)",
   "language": "python",
   "name": "python3"
  },
  "language_info": {
   "codemirror_mode": {
    "name": "ipython",
    "version": 3
   },
   "file_extension": ".py",
   "mimetype": "text/x-python",
   "name": "python",
   "nbconvert_exporter": "python",
   "pygments_lexer": "ipython3",
   "version": "3.9.12"
  },
  "toc": {
   "base_numbering": 1,
   "nav_menu": {},
   "number_sections": true,
   "sideBar": true,
   "skip_h1_title": false,
   "title_cell": "Table of Contents",
   "title_sidebar": "Contents",
   "toc_cell": false,
   "toc_position": {},
   "toc_section_display": true,
   "toc_window_display": false
  },
  "varInspector": {
   "cols": {
    "lenName": 16,
    "lenType": 16,
    "lenVar": 40
   },
   "kernels_config": {
    "python": {
     "delete_cmd_postfix": "",
     "delete_cmd_prefix": "del ",
     "library": "var_list.py",
     "varRefreshCmd": "print(var_dic_list())"
    },
    "r": {
     "delete_cmd_postfix": ") ",
     "delete_cmd_prefix": "rm(",
     "library": "var_list.r",
     "varRefreshCmd": "cat(var_dic_list()) "
    }
   },
   "types_to_exclude": [
    "module",
    "function",
    "builtin_function_or_method",
    "instance",
    "_Feature"
   ],
   "window_display": false
  }
 },
 "nbformat": 4,
 "nbformat_minor": 5
}
